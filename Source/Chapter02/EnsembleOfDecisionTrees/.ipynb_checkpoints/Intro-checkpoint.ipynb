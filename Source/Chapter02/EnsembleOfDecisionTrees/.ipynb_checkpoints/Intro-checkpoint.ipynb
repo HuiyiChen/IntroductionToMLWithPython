{
 "cells": [
  {
   "cell_type": "markdown",
   "metadata": {
    "collapsed": true
   },
   "source": [
    "Several algorithms fall into this classification, but there are two main implementations that are the most effevtive on this ones\n",
    "\n",
    "* Random Forest\n",
    "* Gradient Boosted Decision Trees"
   ]
  },
  {
   "cell_type": "markdown",
   "metadata": {},
   "source": [
    "Random\n",
    "if Forrest:\n",
    "    \n",
    "Random forests are one way to address"
   ]
  }
 ],
 "metadata": {
  "kernelspec": {
   "display_name": "Python 3.6",
   "language": "python",
   "name": "python_3.6"
  },
  "language_info": {
   "codemirror_mode": {
    "name": "ipython",
    "version": 3
   },
   "file_extension": ".py",
   "mimetype": "text/x-python",
   "name": "python",
   "nbconvert_exporter": "python",
   "pygments_lexer": "ipython3",
   "version": "3.6.5"
  }
 },
 "nbformat": 4,
 "nbformat_minor": 1
}
