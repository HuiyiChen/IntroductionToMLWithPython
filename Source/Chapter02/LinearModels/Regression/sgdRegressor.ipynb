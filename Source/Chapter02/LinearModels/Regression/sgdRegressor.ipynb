{
 "cells": [
  {
   "cell_type": "heading",
   "metadata": {
    "collapsed": true
   },
   "level": 1,
   "source": [
    "SGD stands for Stochastic Gradient Descent: the gradient of the loss is estimated each sample at a time and the model is updated along the way with a decreasing strength schedule (aka learning rate).\n",
    "\n",
    "The regularizer is a penalty added to the loss function that shrinks model parameters towards the zero vector using either the squared euclidean norm L2 or the absolute norm L1 or a combination of both (Elastic Net). If the parameter update crosses the 0.0 value because of the regularizer, the update is truncated to 0.0 to allow for learning sparse models and achieve online feature selection.\n",
    "\n",
    "This implementation works with data represented as dense numpy arrays of floating point values for the features."
   ]
  },
  {
   "cell_type": "code",
   "execution_count": 1,
   "metadata": {},
   "outputs": [],
   "source": [
    "import matplotlib.pyplot as plt\n",
    "import mglearn\n",
    "from sklearn.linear_model import SGDRegressor\n",
    "from sklearn.model_selection import train_test_split\n",
    "%matplotlib inline\n"
   ]
  },
  {
   "cell_type": "code",
   "execution_count": 3,
   "metadata": {},
   "outputs": [
    {
     "name": "stdout",
     "output_type": "stream",
     "text": [
      "Training set score: 0.56\nTest set score: 0.43\n"
     ]
    },
    {
     "name": "stderr",
     "output_type": "stream",
     "text": [
      "/home/irmorales/Projects/IntroductionToMLWithPython/Source/venv/lib/python3.6/site-packages/sklearn/linear_model/stochastic_gradient.py:166: FutureWarning: max_iter and tol parameters have been added in SGDRegressor in 0.19. If both are left unset, they default to max_iter=5 and tol=None. If tol is not None, max_iter defaults to max_iter=1000. From 0.21, default max_iter will be 1000, and default tol will be 1e-3.\n  FutureWarning)\n"
     ]
    }
   ],
   "source": [
    "X, y = mglearn.datasets.load_extended_boston()\n",
    "X_train, X_test, y_train, y_test = train_test_split(X, y, random_state=0)\n",
    "sgdRegressor = SGDRegressor().fit(X_train, y_train)\n",
    "\n",
    "print(\"Training set score: {:.2f}\".format(sgdRegressor.score(X_train, y_train)))\n",
    "print(\"Test set score: {:.2f}\".format(sgdRegressor.score(X_test, y_test)))\n"
   ]
  },
  {
   "cell_type": "heading",
   "metadata": {},
   "level": 1,
   "source": [
    "This is a really bad bad behavior"
   ]
  },
  {
   "cell_type": "code",
   "execution_count": 4,
   "metadata": {},
   "outputs": [
    {
     "name": "stdout",
     "output_type": "stream",
     "text": [
      "Training set score: 0.04\nTest set score_ 0.02\n"
     ]
    },
    {
     "name": "stderr",
     "output_type": "stream",
     "text": [
      "/home/irmorales/Projects/IntroductionToMLWithPython/Source/venv/lib/python3.6/site-packages/sklearn/linear_model/stochastic_gradient.py:166: FutureWarning: max_iter and tol parameters have been added in SGDRegressor in 0.19. If both are left unset, they default to max_iter=5 and tol=None. If tol is not None, max_iter defaults to max_iter=1000. From 0.21, default max_iter will be 1000, and default tol will be 1e-3.\n  FutureWarning)\n"
     ]
    }
   ],
   "source": [
    "# Testing with a different alpha\n",
    "sgdRegressor10 = SGDRegressor(alpha=10).fit(X_train, y_train)\n",
    "print(\"Training set score: {:.2f}\".format(sgdRegressor10.score(X_train, y_train)))\n",
    "print(\"Test set score_ {:.2f}\".format(sgdRegressor10.score(X_test, y_test)))"
   ]
  },
  {
   "cell_type": "heading",
   "metadata": {},
   "level": 1,
   "source": [
    "It's even worse"
   ]
  },
  {
   "cell_type": "code",
   "execution_count": 5,
   "metadata": {},
   "outputs": [
    {
     "name": "stdout",
     "output_type": "stream",
     "text": [
      "Training set score: 0.57\nTest set score_ 0.40\n"
     ]
    },
    {
     "name": "stderr",
     "output_type": "stream",
     "text": [
      "/home/irmorales/Projects/IntroductionToMLWithPython/Source/venv/lib/python3.6/site-packages/sklearn/linear_model/stochastic_gradient.py:166: FutureWarning: max_iter and tol parameters have been added in SGDRegressor in 0.19. If both are left unset, they default to max_iter=5 and tol=None. If tol is not None, max_iter defaults to max_iter=1000. From 0.21, default max_iter will be 1000, and default tol will be 1e-3.\n  FutureWarning)\n"
     ]
    }
   ],
   "source": [
    "# Testing with a different alpha\n",
    "sgdRegressor01 = SGDRegressor(alpha=0.001).fit(X_train, y_train)\n",
    "print(\"Training set score: {:.2f}\".format(sgdRegressor01.score(X_train, y_train)))\n",
    "print(\"Test set score_ {:.2f}\".format(sgdRegressor01.score(X_test, y_test)))"
   ]
  },
  {
   "cell_type": "code",
   "execution_count": 6,
   "metadata": {},
   "outputs": [
    {
     "data": {
      "text/plain": [
       "<matplotlib.legend.Legend at 0x7f7c05bbd320>"
      ]
     },
     "execution_count": 6,
     "metadata": {},
     "output_type": "execute_result"
    },
    {
     "data": {
      "image/png": "[encoded data removed]",
      "text/plain": [
       "<Figure size 432x288 with 1 Axes>"
      ]
     },
     "metadata": {},
     "output_type": "display_data"
    }
   ],
   "source": [
    "plt.plot(sgdRegressor.coef_, 's', label=\"SGDRegressor alpha=0.000001\")\n",
    "plt.plot(sgdRegressor10.coef_, '^', label=\"SGDRegressor alpha=10\")\n",
    "plt.plot(sgdRegressor01.coef_, 'v', label=\"SGDRegressor alpha=.1\")\n",
    "plt.xlabel(\"Coefficient index\")\n",
    "plt.ylabel(\"Coefficient magnitude\")\n",
    "plt.ylim(-25, 25)\n",
    "plt.legend()"
   ]
  },
  {
   "cell_type": "heading",
   "metadata": {},
   "level": 1,
   "source": [
    "Trying to tune-in additional parameters to get the expected value, or at least a better aproximation"
   ]
  },
  {
   "cell_type": "code",
   "execution_count": 8,
   "metadata": {},
   "outputs": [
    {
     "name": "stderr",
     "output_type": "stream",
     "text": [
      "/home/irmorales/Projects/IntroductionToMLWithPython/Source/venv/lib/python3.6/site-packages/sklearn/linear_model/stochastic_gradient.py:152: DeprecationWarning: n_iter parameter is deprecated in 0.19 and will be removed in 0.21. Use max_iter and tol instead.\n  DeprecationWarning)\n"
     ]
    },
    {
     "name": "stdout",
     "output_type": "stream",
     "text": [
      "Train score= 0.7635253022916537\nTest score= 0.5780810504236858\n"
     ]
    }
   ],
   "source": [
    "sgdRegressorTuneIn1 = SGDRegressor(loss=\"epsilon_insensitive\", penalty=\"l2\", n_iter=1000).fit(X_train, y_train)\n",
    "print(\"Train score= {}\".format(sgdRegressorTuneIn1.score(X_train, y_train)))\n",
    "print(\"Test score= {}\".format(sgdRegressorTuneIn1.score(X_test, y_test)))\n"
   ]
  },
  {
   "cell_type": "heading",
   "metadata": {},
   "level": 1,
   "source": [
    "It starts behaving better..."
   ]
  },
  {
   "cell_type": "code",
   "execution_count": 15,
   "metadata": {},
   "outputs": [
    {
     "name": "stderr",
     "output_type": "stream",
     "text": [
      "/home/irmorales/Projects/IntroductionToMLWithPython/Source/venv/lib/python3.6/site-packages/sklearn/linear_model/stochastic_gradient.py:152: DeprecationWarning: n_iter parameter is deprecated in 0.19 and will be removed in 0.21. Use max_iter and tol instead.\n  DeprecationWarning)\n"
     ]
    },
    {
     "name": "stdout",
     "output_type": "stream",
     "text": [
      "Train score= 0.900054771127926\nTest score= 0.7475353394095043\n"
     ]
    }
   ],
   "source": [
    "sgdRegressorTuneIn1 = SGDRegressor(loss=\"epsilon_insensitive\", penalty=\"l2\", n_iter=100000)\n",
    "sgdRegressorTuneIn1.fit(X_train, y_train)\n",
    "print(\"Train score= {}\".format(sgdRegressorTuneIn1.score(X_train, y_train)))\n",
    "print(\"Test score= {}\".format(sgdRegressorTuneIn1.score(X_test, y_test)))"
   ]
  },
  {
   "cell_type": "heading",
   "metadata": {},
   "level": 1,
   "source": [
    "Increasing the number of iterations is helping, butlet'stry to also tune in using alpha"
   ]
  },
  {
   "cell_type": "code",
   "execution_count": 24,
   "metadata": {},
   "outputs": [
    {
     "name": "stderr",
     "output_type": "stream",
     "text": [
      "/home/irmorales/Projects/IntroductionToMLWithPython/Source/venv/lib/python3.6/site-packages/sklearn/linear_model/stochastic_gradient.py:152: DeprecationWarning: n_iter parameter is deprecated in 0.19 and will be removed in 0.21. Use max_iter and tol instead.\n  DeprecationWarning)\n"
     ]
    },
    {
     "name": "stdout",
     "output_type": "stream",
     "text": [
      "Train score= 0.9361072849998765\nTest score= 0.7542936626311921\n"
     ]
    }
   ],
   "source": [
    "sgdRegressorTuneIn1 = SGDRegressor(loss=\"squared_loss\", penalty=\"l2\", alpha=0.000001, n_iter=100000)\n",
    "sgdRegressorTuneIn1.fit(X_train, y_train)\n",
    "print(\"Train score= {}\".format(sgdRegressorTuneIn1.score(X_train, y_train)))\n",
    "print(\"Test score= {}\".format(sgdRegressorTuneIn1.score(X_test, y_test)))\n"
   ]
  },
  {
   "cell_type": "code",
   "execution_count": 25,
   "metadata": {},
   "outputs": [
    {
     "name": "stderr",
     "output_type": "stream",
     "text": [
      "/home/irmorales/Projects/IntroductionToMLWithPython/Source/venv/lib/python3.6/site-packages/sklearn/linear_model/stochastic_gradient.py:152: DeprecationWarning: n_iter parameter is deprecated in 0.19 and will be removed in 0.21. Use max_iter and tol instead.\n  DeprecationWarning)\n"
     ]
    },
    {
     "name": "stdout",
     "output_type": "stream",
     "text": [
      "Train score= 0.9402004991530113\nTest score= 0.7284557101932179\n"
     ]
    }
   ],
   "source": [
    "sgdRegressorTuneIn1 = SGDRegressor(loss=\"squared_epsilon_insensitive\", penalty=\"l2\", alpha=0.000001, n_iter=100000)\n",
    "sgdRegressorTuneIn1.fit(X_train, y_train)\n",
    "print(\"Train score= {}\".format(sgdRegressorTuneIn1.score(X_train, y_train)))\n",
    "print(\"Test score= {}\".format(sgdRegressorTuneIn1.score(X_test, y_test)))"
   ]
  },
  {
   "cell_type": "code",
   "execution_count": 28,
   "metadata": {},
   "outputs": [
    {
     "name": "stderr",
     "output_type": "stream",
     "text": [
      "/home/irmorales/Projects/IntroductionToMLWithPython/Source/venv/lib/python3.6/site-packages/sklearn/linear_model/stochastic_gradient.py:152: DeprecationWarning: n_iter parameter is deprecated in 0.19 and will be removed in 0.21. Use max_iter and tol instead.\n  DeprecationWarning)\n"
     ]
    },
    {
     "name": "stdout",
     "output_type": "stream",
     "text": [
      "Train score= 0.8305701807522079\nTest score= 0.6607561611644879\n"
     ]
    }
   ],
   "source": [
    "sgdRegressorTuneIn1 = SGDRegressor(loss=\"huber\", penalty=\"l2\", alpha=0.000001, n_iter=100000)\n",
    "sgdRegressorTuneIn1.fit(X_train, y_train)\n",
    "print(\"Train score= {}\".format(sgdRegressorTuneIn1.score(X_train, y_train)))\n",
    "print(\"Test score= {}\".format(sgdRegressorTuneIn1.score(X_test, y_test)))"
   ]
  },
  {
   "cell_type": "code",
   "execution_count": 29,
   "metadata": {},
   "outputs": [
    {
     "name": "stderr",
     "output_type": "stream",
     "text": [
      "/home/irmorales/Projects/IntroductionToMLWithPython/Source/venv/lib/python3.6/site-packages/sklearn/linear_model/stochastic_gradient.py:152: DeprecationWarning: n_iter parameter is deprecated in 0.19 and will be removed in 0.21. Use max_iter and tol instead.\n  DeprecationWarning)\n"
     ]
    },
    {
     "name": "stdout",
     "output_type": "stream",
     "text": [
      "Train score= 0.9053845779202184\nTest score= 0.7545610078844246\n"
     ]
    }
   ],
   "source": [
    "sgdRegressorTuneIn1 = SGDRegressor(loss=\"epsilon_insensitive\", penalty=\"l2\", alpha=0.000001, n_iter=100000)\n",
    "sgdRegressorTuneIn1.fit(X_train, y_train)\n",
    "print(\"Train score= {}\".format(sgdRegressorTuneIn1.score(X_train, y_train)))\n",
    "print(\"Test score= {}\".format(sgdRegressorTuneIn1.score(X_test, y_test)))"
   ]
  },
  {
   "cell_type": "code",
   "execution_count": 35,
   "metadata": {},
   "outputs": [
    {
     "name": "stderr",
     "output_type": "stream",
     "text": [
      "/home/irmorales/Projects/IntroductionToMLWithPython/Source/venv/lib/python3.6/site-packages/sklearn/linear_model/stochastic_gradient.py:152: DeprecationWarning: n_iter parameter is deprecated in 0.19 and will be removed in 0.21. Use max_iter and tol instead.\n  DeprecationWarning)\n"
     ]
    },
    {
     "name": "stdout",
     "output_type": "stream",
     "text": [
      "Train score= 0.9358429575481841\nTest score= 0.7558000480268583\n"
     ]
    }
   ],
   "source": [
    "# After seen previous results, the Squared_loss is the one with better performance in both, \n",
    "# training and test, so we try to tune-in it\n",
    "sgdRegressorTuneIn1 = SGDRegressor(loss=\"squared_loss\", penalty=\"l2\", alpha=0.00001, n_iter=100000)\n",
    "sgdRegressorTuneIn1.fit(X_train, y_train)\n",
    "print(\"Train score= {}\".format(sgdRegressorTuneIn1.score(X_train, y_train)))\n",
    "print(\"Test score= {}\".format(sgdRegressorTuneIn1.score(X_test, y_test)))\n"
   ]
  },
  {
   "cell_type": "heading",
   "metadata": {},
   "level": 1,
   "source": [
    "After some additional testig I wasn't able to improve performance, I will do more research"
   ]
  },
  {
   "cell_type": "code",
   "execution_count": null,
   "metadata": {},
   "outputs": [],
   "source": []
  }
 ],
 "metadata": {
  "kernelspec": {
   "display_name": "Python 2",
   "language": "python",
   "name": "python2"
  },
  "language_info": {
   "codemirror_mode": {
    "name": "ipython",
    "version": 2
   },
   "file_extension": ".py",
   "mimetype": "text/x-python",
   "name": "python",
   "nbconvert_exporter": "python",
   "pygments_lexer": "ipython2",
   "version": "2.7.6"
  }
 },
 "nbformat": 4,
 "nbformat_minor": 0
}
